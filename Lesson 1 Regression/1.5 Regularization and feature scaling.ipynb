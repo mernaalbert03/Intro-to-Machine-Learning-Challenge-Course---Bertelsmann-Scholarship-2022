{
 "cells": [
  {
   "cell_type": "markdown",
   "id": "d11f4891",
   "metadata": {},
   "source": [
    "# Regularization and feature scaling"
   ]
  },
  {
   "cell_type": "markdown",
   "id": "aa17b960",
   "metadata": {},
   "source": [
    "## 1. Import the libraries"
   ]
  },
  {
   "cell_type": "code",
   "execution_count": 1,
   "id": "f6f0fa0e",
   "metadata": {},
   "outputs": [],
   "source": [
    "import numpy as np \n",
    "import pandas as pd \n",
    "from sklearn.linear_model import Lasso\n",
    "from sklearn.preprocessing import StandardScaler"
   ]
  },
  {
   "cell_type": "code",
   "execution_count": 5,
   "id": "82e0afb7",
   "metadata": {},
   "outputs": [
    {
     "data": {
      "text/html": [
       "<div>\n",
       "<style scoped>\n",
       "    .dataframe tbody tr th:only-of-type {\n",
       "        vertical-align: middle;\n",
       "    }\n",
       "\n",
       "    .dataframe tbody tr th {\n",
       "        vertical-align: top;\n",
       "    }\n",
       "\n",
       "    .dataframe thead th {\n",
       "        text-align: right;\n",
       "    }\n",
       "</style>\n",
       "<table border=\"1\" class=\"dataframe\">\n",
       "  <thead>\n",
       "    <tr style=\"text-align: right;\">\n",
       "      <th></th>\n",
       "      <th>0</th>\n",
       "      <th>1</th>\n",
       "      <th>2</th>\n",
       "      <th>3</th>\n",
       "      <th>4</th>\n",
       "      <th>5</th>\n",
       "      <th>6</th>\n",
       "    </tr>\n",
       "  </thead>\n",
       "  <tbody>\n",
       "    <tr>\n",
       "      <th>0</th>\n",
       "      <td>1.25664</td>\n",
       "      <td>2.04978</td>\n",
       "      <td>-6.23640</td>\n",
       "      <td>4.71926</td>\n",
       "      <td>-4.26931</td>\n",
       "      <td>0.20590</td>\n",
       "      <td>12.31798</td>\n",
       "    </tr>\n",
       "    <tr>\n",
       "      <th>1</th>\n",
       "      <td>-3.89012</td>\n",
       "      <td>-0.37511</td>\n",
       "      <td>6.14979</td>\n",
       "      <td>4.94585</td>\n",
       "      <td>-3.57844</td>\n",
       "      <td>0.00640</td>\n",
       "      <td>23.67628</td>\n",
       "    </tr>\n",
       "    <tr>\n",
       "      <th>2</th>\n",
       "      <td>5.09784</td>\n",
       "      <td>0.98120</td>\n",
       "      <td>-0.29939</td>\n",
       "      <td>5.85805</td>\n",
       "      <td>0.28297</td>\n",
       "      <td>-0.20626</td>\n",
       "      <td>-1.53459</td>\n",
       "    </tr>\n",
       "    <tr>\n",
       "      <th>3</th>\n",
       "      <td>0.39034</td>\n",
       "      <td>-3.06861</td>\n",
       "      <td>-5.63488</td>\n",
       "      <td>6.43941</td>\n",
       "      <td>0.39256</td>\n",
       "      <td>-0.07084</td>\n",
       "      <td>-24.68670</td>\n",
       "    </tr>\n",
       "    <tr>\n",
       "      <th>4</th>\n",
       "      <td>5.84727</td>\n",
       "      <td>-0.15922</td>\n",
       "      <td>11.41246</td>\n",
       "      <td>7.52165</td>\n",
       "      <td>1.69886</td>\n",
       "      <td>0.29022</td>\n",
       "      <td>17.54122</td>\n",
       "    </tr>\n",
       "  </tbody>\n",
       "</table>\n",
       "</div>"
      ],
      "text/plain": [
       "         0        1         2        3        4        5         6\n",
       "0  1.25664  2.04978  -6.23640  4.71926 -4.26931  0.20590  12.31798\n",
       "1 -3.89012 -0.37511   6.14979  4.94585 -3.57844  0.00640  23.67628\n",
       "2  5.09784  0.98120  -0.29939  5.85805  0.28297 -0.20626  -1.53459\n",
       "3  0.39034 -3.06861  -5.63488  6.43941  0.39256 -0.07084 -24.68670\n",
       "4  5.84727 -0.15922  11.41246  7.52165  1.69886  0.29022  17.54122"
      ]
     },
     "execution_count": 5,
     "metadata": {},
     "output_type": "execute_result"
    }
   ],
   "source": [
    "df=pd.read_csv(\"5-data.csv\",header=None)\n",
    "df.head()"
   ]
  },
  {
   "cell_type": "code",
   "execution_count": 7,
   "id": "f10de68c",
   "metadata": {},
   "outputs": [
    {
     "data": {
      "text/html": [
       "<div>\n",
       "<style scoped>\n",
       "    .dataframe tbody tr th:only-of-type {\n",
       "        vertical-align: middle;\n",
       "    }\n",
       "\n",
       "    .dataframe tbody tr th {\n",
       "        vertical-align: top;\n",
       "    }\n",
       "\n",
       "    .dataframe thead th {\n",
       "        text-align: right;\n",
       "    }\n",
       "</style>\n",
       "<table border=\"1\" class=\"dataframe\">\n",
       "  <thead>\n",
       "    <tr style=\"text-align: right;\">\n",
       "      <th></th>\n",
       "      <th>0</th>\n",
       "      <th>1</th>\n",
       "      <th>2</th>\n",
       "      <th>3</th>\n",
       "      <th>4</th>\n",
       "      <th>5</th>\n",
       "      <th>6</th>\n",
       "    </tr>\n",
       "  </thead>\n",
       "  <tbody>\n",
       "    <tr>\n",
       "      <th>count</th>\n",
       "      <td>100.000000</td>\n",
       "      <td>100.000000</td>\n",
       "      <td>100.000000</td>\n",
       "      <td>100.000000</td>\n",
       "      <td>100.000000</td>\n",
       "      <td>100.000000</td>\n",
       "      <td>100.000000</td>\n",
       "    </tr>\n",
       "    <tr>\n",
       "      <th>mean</th>\n",
       "      <td>-0.076288</td>\n",
       "      <td>-0.181381</td>\n",
       "      <td>0.339573</td>\n",
       "      <td>1.772602</td>\n",
       "      <td>-0.168269</td>\n",
       "      <td>0.009754</td>\n",
       "      <td>0.744579</td>\n",
       "    </tr>\n",
       "    <tr>\n",
       "      <th>std</th>\n",
       "      <td>5.560089</td>\n",
       "      <td>1.737693</td>\n",
       "      <td>4.982072</td>\n",
       "      <td>8.163906</td>\n",
       "      <td>3.184054</td>\n",
       "      <td>0.183237</td>\n",
       "      <td>17.132932</td>\n",
       "    </tr>\n",
       "    <tr>\n",
       "      <th>min</th>\n",
       "      <td>-12.398240</td>\n",
       "      <td>-5.280250</td>\n",
       "      <td>-11.235910</td>\n",
       "      <td>-23.820240</td>\n",
       "      <td>-6.865330</td>\n",
       "      <td>-0.634440</td>\n",
       "      <td>-45.017100</td>\n",
       "    </tr>\n",
       "    <tr>\n",
       "      <th>25%</th>\n",
       "      <td>-3.880408</td>\n",
       "      <td>-1.222918</td>\n",
       "      <td>-2.833322</td>\n",
       "      <td>-3.383100</td>\n",
       "      <td>-2.731047</td>\n",
       "      <td>-0.099910</td>\n",
       "      <td>-9.455507</td>\n",
       "    </tr>\n",
       "    <tr>\n",
       "      <th>50%</th>\n",
       "      <td>-0.009940</td>\n",
       "      <td>-0.278235</td>\n",
       "      <td>-0.072670</td>\n",
       "      <td>0.711860</td>\n",
       "      <td>-0.120520</td>\n",
       "      <td>0.002385</td>\n",
       "      <td>0.415680</td>\n",
       "    </tr>\n",
       "    <tr>\n",
       "      <th>75%</th>\n",
       "      <td>4.065705</td>\n",
       "      <td>1.083133</td>\n",
       "      <td>3.855920</td>\n",
       "      <td>6.704855</td>\n",
       "      <td>2.173942</td>\n",
       "      <td>0.119822</td>\n",
       "      <td>12.878975</td>\n",
       "    </tr>\n",
       "    <tr>\n",
       "      <th>max</th>\n",
       "      <td>13.374540</td>\n",
       "      <td>4.301200</td>\n",
       "      <td>11.946500</td>\n",
       "      <td>22.880080</td>\n",
       "      <td>7.351290</td>\n",
       "      <td>0.523280</td>\n",
       "      <td>36.216980</td>\n",
       "    </tr>\n",
       "  </tbody>\n",
       "</table>\n",
       "</div>"
      ],
      "text/plain": [
       "                0           1           2           3           4           5  \\\n",
       "count  100.000000  100.000000  100.000000  100.000000  100.000000  100.000000   \n",
       "mean    -0.076288   -0.181381    0.339573    1.772602   -0.168269    0.009754   \n",
       "std      5.560089    1.737693    4.982072    8.163906    3.184054    0.183237   \n",
       "min    -12.398240   -5.280250  -11.235910  -23.820240   -6.865330   -0.634440   \n",
       "25%     -3.880408   -1.222918   -2.833322   -3.383100   -2.731047   -0.099910   \n",
       "50%     -0.009940   -0.278235   -0.072670    0.711860   -0.120520    0.002385   \n",
       "75%      4.065705    1.083133    3.855920    6.704855    2.173942    0.119822   \n",
       "max     13.374540    4.301200   11.946500   22.880080    7.351290    0.523280   \n",
       "\n",
       "                6  \n",
       "count  100.000000  \n",
       "mean     0.744579  \n",
       "std     17.132932  \n",
       "min    -45.017100  \n",
       "25%     -9.455507  \n",
       "50%      0.415680  \n",
       "75%     12.878975  \n",
       "max     36.216980  "
      ]
     },
     "execution_count": 7,
     "metadata": {},
     "output_type": "execute_result"
    }
   ],
   "source": [
    "df.describe()"
   ]
  },
  {
   "cell_type": "markdown",
   "id": "5c0d6c8c",
   "metadata": {},
   "source": [
    "## 2. split into X,y "
   ]
  },
  {
   "cell_type": "code",
   "execution_count": 6,
   "id": "1a802225",
   "metadata": {},
   "outputs": [],
   "source": [
    "X = df.iloc[:,:5]\n",
    "y = df.iloc[:,6]"
   ]
  },
  {
   "cell_type": "code",
   "execution_count": 11,
   "id": "f8575745",
   "metadata": {},
   "outputs": [
    {
     "data": {
      "text/plain": [
       "(100, 5)"
      ]
     },
     "execution_count": 11,
     "metadata": {},
     "output_type": "execute_result"
    }
   ],
   "source": [
    "X.shape"
   ]
  },
  {
   "cell_type": "code",
   "execution_count": 12,
   "id": "8cd4db55",
   "metadata": {},
   "outputs": [
    {
     "data": {
      "text/plain": [
       "(100,)"
      ]
     },
     "execution_count": 12,
     "metadata": {},
     "output_type": "execute_result"
    }
   ],
   "source": [
    "y.shape"
   ]
  },
  {
   "cell_type": "markdown",
   "id": "e2b77fc0",
   "metadata": {},
   "source": [
    "## 3. feature scaling "
   ]
  },
  {
   "cell_type": "code",
   "execution_count": 21,
   "id": "aa8f419f",
   "metadata": {},
   "outputs": [],
   "source": [
    "scaler=StandardScaler()\n",
    "X_scaled = pd.DataFrame(scaler.fit_transform(X))                            "
   ]
  },
  {
   "cell_type": "code",
   "execution_count": 22,
   "id": "c5b43759",
   "metadata": {},
   "outputs": [
    {
     "data": {
      "text/html": [
       "<div>\n",
       "<style scoped>\n",
       "    .dataframe tbody tr th:only-of-type {\n",
       "        vertical-align: middle;\n",
       "    }\n",
       "\n",
       "    .dataframe tbody tr th {\n",
       "        vertical-align: top;\n",
       "    }\n",
       "\n",
       "    .dataframe thead th {\n",
       "        text-align: right;\n",
       "    }\n",
       "</style>\n",
       "<table border=\"1\" class=\"dataframe\">\n",
       "  <thead>\n",
       "    <tr style=\"text-align: right;\">\n",
       "      <th></th>\n",
       "      <th>0</th>\n",
       "      <th>1</th>\n",
       "      <th>2</th>\n",
       "      <th>3</th>\n",
       "      <th>4</th>\n",
       "    </tr>\n",
       "  </thead>\n",
       "  <tbody>\n",
       "    <tr>\n",
       "      <th>count</th>\n",
       "      <td>1.000000e+02</td>\n",
       "      <td>1.000000e+02</td>\n",
       "      <td>1.000000e+02</td>\n",
       "      <td>1.000000e+02</td>\n",
       "      <td>1.000000e+02</td>\n",
       "    </tr>\n",
       "    <tr>\n",
       "      <th>mean</th>\n",
       "      <td>-1.332268e-17</td>\n",
       "      <td>1.332268e-17</td>\n",
       "      <td>6.772360e-17</td>\n",
       "      <td>8.881784e-18</td>\n",
       "      <td>-3.441691e-17</td>\n",
       "    </tr>\n",
       "    <tr>\n",
       "      <th>std</th>\n",
       "      <td>1.005038e+00</td>\n",
       "      <td>1.005038e+00</td>\n",
       "      <td>1.005038e+00</td>\n",
       "      <td>1.005038e+00</td>\n",
       "      <td>1.005038e+00</td>\n",
       "    </tr>\n",
       "    <tr>\n",
       "      <th>min</th>\n",
       "      <td>-2.227307e+00</td>\n",
       "      <td>-2.949057e+00</td>\n",
       "      <td>-2.335133e+00</td>\n",
       "      <td>-3.150670e+00</td>\n",
       "      <td>-2.113909e+00</td>\n",
       "    </tr>\n",
       "    <tr>\n",
       "      <th>25%</th>\n",
       "      <td>-6.876300e-01</td>\n",
       "      <td>-6.023985e-01</td>\n",
       "      <td>-6.400711e-01</td>\n",
       "      <td>-6.347055e-01</td>\n",
       "      <td>-8.089341e-01</td>\n",
       "    </tr>\n",
       "    <tr>\n",
       "      <th>50%</th>\n",
       "      <td>1.199298e-02</td>\n",
       "      <td>-5.601797e-02</td>\n",
       "      <td>-8.316223e-02</td>\n",
       "      <td>-1.305853e-01</td>\n",
       "      <td>1.507175e-02</td>\n",
       "    </tr>\n",
       "    <tr>\n",
       "      <th>75%</th>\n",
       "      <td>7.487037e-01</td>\n",
       "      <td>7.313626e-01</td>\n",
       "      <td>7.093557e-01</td>\n",
       "      <td>6.071972e-01</td>\n",
       "      <td>7.393126e-01</td>\n",
       "    </tr>\n",
       "    <tr>\n",
       "      <th>max</th>\n",
       "      <td>2.431362e+00</td>\n",
       "      <td>2.592612e+00</td>\n",
       "      <td>2.341476e+00</td>\n",
       "      <td>2.598488e+00</td>\n",
       "      <td>2.373528e+00</td>\n",
       "    </tr>\n",
       "  </tbody>\n",
       "</table>\n",
       "</div>"
      ],
      "text/plain": [
       "                  0             1             2             3             4\n",
       "count  1.000000e+02  1.000000e+02  1.000000e+02  1.000000e+02  1.000000e+02\n",
       "mean  -1.332268e-17  1.332268e-17  6.772360e-17  8.881784e-18 -3.441691e-17\n",
       "std    1.005038e+00  1.005038e+00  1.005038e+00  1.005038e+00  1.005038e+00\n",
       "min   -2.227307e+00 -2.949057e+00 -2.335133e+00 -3.150670e+00 -2.113909e+00\n",
       "25%   -6.876300e-01 -6.023985e-01 -6.400711e-01 -6.347055e-01 -8.089341e-01\n",
       "50%    1.199298e-02 -5.601797e-02 -8.316223e-02 -1.305853e-01  1.507175e-02\n",
       "75%    7.487037e-01  7.313626e-01  7.093557e-01  6.071972e-01  7.393126e-01\n",
       "max    2.431362e+00  2.592612e+00  2.341476e+00  2.598488e+00  2.373528e+00"
      ]
     },
     "execution_count": 22,
     "metadata": {},
     "output_type": "execute_result"
    }
   ],
   "source": [
    "X_scaled.describe()"
   ]
  },
  {
   "cell_type": "markdown",
   "id": "93d3e514",
   "metadata": {},
   "source": [
    "## 4. Build a model with lasso regularization"
   ]
  },
  {
   "cell_type": "code",
   "execution_count": 23,
   "id": "eb344ef7",
   "metadata": {},
   "outputs": [
    {
     "data": {
      "text/plain": [
       "Lasso()"
      ]
     },
     "execution_count": 23,
     "metadata": {},
     "output_type": "execute_result"
    }
   ],
   "source": [
    "model=Lasso()   #Linear Model trained with L1 prior as regularizer\n",
    "model.fit(X_scaled,y)"
   ]
  },
  {
   "cell_type": "code",
   "execution_count": 24,
   "id": "5ec8521c",
   "metadata": {},
   "outputs": [],
   "source": [
    "y_pred=model.predict(X)"
   ]
  },
  {
   "cell_type": "code",
   "execution_count": 17,
   "id": "5c6a760e",
   "metadata": {},
   "outputs": [
    {
     "data": {
      "text/plain": [
       "array([   2.07813339,   97.65316842,   -1.62617508,  -66.82149757,\n",
       "         84.08233367,   17.11271843,   60.61634068,    8.6324845 ,\n",
       "        -60.68460753,  -16.16464642,  -37.27556239,  -91.64634037,\n",
       "        -44.73737806,   33.24591074,   29.33448607,  -99.3310609 ,\n",
       "         87.956226  ,  -14.51104939,   95.68744834,  -45.62707675,\n",
       "        -66.52621943,  -17.51308363,  -23.31778548,   77.99462377,\n",
       "         15.25571436,   45.29277045,   75.50864746,   79.74277859,\n",
       "        -82.13935148, -122.84595741,  -49.09105342,   10.88953642,\n",
       "         75.52485889,  -17.88488861,  -17.46608489,  -13.5000226 ,\n",
       "        -36.27798988,  -85.60095334,   35.60752613,   25.81487471,\n",
       "        -10.65084431,  -12.04177085,  -61.81863792, -146.27423984,\n",
       "         51.6060543 ,   16.41494436,   16.92305841,   56.70047992,\n",
       "        -27.97204398,   18.8113818 ,   33.27630104,   33.34760062,\n",
       "        -49.67526894,    8.70010426,   -6.79606106,   97.08495549,\n",
       "         63.35687485,  130.20480783,   -3.09559196, -100.69840552,\n",
       "         58.4501919 ,   45.41724957,   70.88836245,  -45.52170717,\n",
       "        -60.58057007,  -62.52524587,   94.79611855,   26.92073857,\n",
       "         55.64612889,   87.66489671,   49.48188564,   41.51674571,\n",
       "        -12.61614279,  -15.15071731,  -17.57503276,   35.66286007,\n",
       "        -76.5078835 ,   28.90309443,   76.17772867,   24.16475806,\n",
       "         31.7915519 ,  -37.86444319,   -1.61458747,   65.11622211,\n",
       "        -43.49650037,  -15.26590672,   63.7427474 ,   -9.12020667,\n",
       "         33.41419997,   14.1134643 ,   48.61781705,  -40.2617743 ,\n",
       "       -111.46597949,   26.48501533,   18.15577875,  109.6718069 ,\n",
       "        -19.5698147 ,  -42.90500553,  -87.31853617,   52.03176345])"
      ]
     },
     "execution_count": 17,
     "metadata": {},
     "output_type": "execute_result"
    }
   ],
   "source": [
    "y_pred"
   ]
  },
  {
   "cell_type": "markdown",
   "id": "48bfdb6a",
   "metadata": {},
   "source": [
    "## 5.Get the coefficients"
   ]
  },
  {
   "cell_type": "code",
   "execution_count": 18,
   "id": "2d5e7099",
   "metadata": {},
   "outputs": [
    {
     "name": "stdout",
     "output_type": "stream",
     "text": [
      "[  0.           3.77175554   9.11363512  -0.         -11.8142181 ]\n"
     ]
    }
   ],
   "source": [
    "reg_coef = model.coef_\n",
    "print(reg_coef)"
   ]
  }
 ],
 "metadata": {
  "kernelspec": {
   "display_name": "test_env",
   "language": "python",
   "name": "test_env"
  },
  "language_info": {
   "codemirror_mode": {
    "name": "ipython",
    "version": 3
   },
   "file_extension": ".py",
   "mimetype": "text/x-python",
   "name": "python",
   "nbconvert_exporter": "python",
   "pygments_lexer": "ipython3",
   "version": "3.9.7"
  }
 },
 "nbformat": 4,
 "nbformat_minor": 5
}
