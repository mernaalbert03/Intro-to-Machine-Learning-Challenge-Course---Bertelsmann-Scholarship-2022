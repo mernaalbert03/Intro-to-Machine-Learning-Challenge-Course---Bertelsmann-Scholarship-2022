{
 "cells": [
  {
   "cell_type": "markdown",
   "id": "9eb47f36",
   "metadata": {},
   "source": [
    "# Polynomial Regression"
   ]
  },
  {
   "cell_type": "markdown",
   "id": "86038a93",
   "metadata": {},
   "source": [
    "## 1. Import the libraries"
   ]
  },
  {
   "cell_type": "code",
   "execution_count": 2,
   "id": "ecc46bde",
   "metadata": {},
   "outputs": [],
   "source": [
    "import numpy as np \n",
    "import pandas as pd\n",
    "from sklearn.linear_model import LinearRegression\n",
    "from sklearn.preprocessing import PolynomialFeatures\n",
    "import matplotlib.pyplot as plt "
   ]
  },
  {
   "cell_type": "markdown",
   "id": "3e97fa53",
   "metadata": {},
   "source": [
    "## 2. Import the data "
   ]
  },
  {
   "cell_type": "code",
   "execution_count": 5,
   "id": "dd847640",
   "metadata": {},
   "outputs": [],
   "source": [
    "df=pd.read_csv(\"4-data.csv\")"
   ]
  },
  {
   "cell_type": "code",
   "execution_count": 6,
   "id": "1d7c16ca",
   "metadata": {},
   "outputs": [
    {
     "data": {
      "text/html": [
       "<div>\n",
       "<style scoped>\n",
       "    .dataframe tbody tr th:only-of-type {\n",
       "        vertical-align: middle;\n",
       "    }\n",
       "\n",
       "    .dataframe tbody tr th {\n",
       "        vertical-align: top;\n",
       "    }\n",
       "\n",
       "    .dataframe thead th {\n",
       "        text-align: right;\n",
       "    }\n",
       "</style>\n",
       "<table border=\"1\" class=\"dataframe\">\n",
       "  <thead>\n",
       "    <tr style=\"text-align: right;\">\n",
       "      <th></th>\n",
       "      <th>Var_X</th>\n",
       "      <th>Var_Y</th>\n",
       "    </tr>\n",
       "  </thead>\n",
       "  <tbody>\n",
       "    <tr>\n",
       "      <th>0</th>\n",
       "      <td>-0.33532</td>\n",
       "      <td>6.66854</td>\n",
       "    </tr>\n",
       "    <tr>\n",
       "      <th>1</th>\n",
       "      <td>0.02160</td>\n",
       "      <td>3.86398</td>\n",
       "    </tr>\n",
       "    <tr>\n",
       "      <th>2</th>\n",
       "      <td>-1.19438</td>\n",
       "      <td>5.16161</td>\n",
       "    </tr>\n",
       "    <tr>\n",
       "      <th>3</th>\n",
       "      <td>-0.65046</td>\n",
       "      <td>8.43823</td>\n",
       "    </tr>\n",
       "    <tr>\n",
       "      <th>4</th>\n",
       "      <td>-0.28001</td>\n",
       "      <td>5.57201</td>\n",
       "    </tr>\n",
       "  </tbody>\n",
       "</table>\n",
       "</div>"
      ],
      "text/plain": [
       "     Var_X    Var_Y\n",
       "0 -0.33532  6.66854\n",
       "1  0.02160  3.86398\n",
       "2 -1.19438  5.16161\n",
       "3 -0.65046  8.43823\n",
       "4 -0.28001  5.57201"
      ]
     },
     "execution_count": 6,
     "metadata": {},
     "output_type": "execute_result"
    }
   ],
   "source": [
    "df.head()"
   ]
  },
  {
   "cell_type": "markdown",
   "id": "e1d5c811",
   "metadata": {},
   "source": [
    "## 3.split the data"
   ]
  },
  {
   "cell_type": "code",
   "execution_count": 30,
   "id": "a5cf3ae5",
   "metadata": {},
   "outputs": [],
   "source": [
    "X=df['Var_X'].values.reshape(-1,1)\n",
    "y=df[\"Var_Y\"].values"
   ]
  },
  {
   "cell_type": "markdown",
   "id": "e7d722c7",
   "metadata": {},
   "source": [
    "## 4. visualize"
   ]
  },
  {
   "cell_type": "code",
   "execution_count": 9,
   "id": "c8851af0",
   "metadata": {},
   "outputs": [
    {
     "data": {
      "text/plain": [
       "<matplotlib.collections.PathCollection at 0x2b43946c670>"
      ]
     },
     "execution_count": 9,
     "metadata": {},
     "output_type": "execute_result"
    },
    {
     "data": {
      "image/png": "[encoded data removed]",
      "text/plain": [
       "<Figure size 432x288 with 1 Axes>"
      ]
     },
     "metadata": {
      "needs_background": "light"
     },
     "output_type": "display_data"
    }
   ],
   "source": [
    "plt.scatter(X,y)"
   ]
  },
  {
   "cell_type": "markdown",
   "id": "83534a72",
   "metadata": {},
   "source": [
    "## 5.Create polynomial features "
   ]
  },
  {
   "cell_type": "code",
   "execution_count": 10,
   "id": "2f446f4e",
   "metadata": {},
   "outputs": [],
   "source": [
    "poly_feat=PolynomialFeatures(degree=2)\n",
    "X_poly = poly_feat.fit_transform(X)"
   ]
  },
  {
   "cell_type": "markdown",
   "id": "17b735cc",
   "metadata": {},
   "source": [
    "## 6. Build polynomial regression model "
   ]
  },
  {
   "cell_type": "code",
   "execution_count": 11,
   "id": "1494acb1",
   "metadata": {},
   "outputs": [],
   "source": [
    "model=LinearRegression(fit_intercept=False)"
   ]
  },
  {
   "cell_type": "code",
   "execution_count": 12,
   "id": "548b5ebf",
   "metadata": {},
   "outputs": [
    {
     "data": {
      "text/plain": [
       "LinearRegression(fit_intercept=False)"
      ]
     },
     "execution_count": 12,
     "metadata": {},
     "output_type": "execute_result"
    }
   ],
   "source": [
    "model.fit(X_poly,y)"
   ]
  },
  {
   "cell_type": "markdown",
   "id": "29b04119",
   "metadata": {},
   "source": [
    "## 7.Predict"
   ]
  },
  {
   "cell_type": "code",
   "execution_count": 13,
   "id": "1bebc788",
   "metadata": {},
   "outputs": [],
   "source": [
    "y_pred=model.predict(X_poly)"
   ]
  },
  {
   "cell_type": "code",
   "execution_count": 46,
   "id": "672da5a8",
   "metadata": {},
   "outputs": [
    {
     "data": {
      "text/plain": [
       "array([ 1.84578332,  0.77610159,  4.64343625,  2.83547842,  1.67645806,\n",
       "       -4.0255836 , -2.43238113, -1.23095514, -6.54737621, -5.81861156,\n",
       "        5.66700621, -0.23299811, -2.93518632,  0.14321961, 10.6819701 ,\n",
       "       -2.08036143, -5.71739853, -0.70555706, -4.89474699,  4.04752251])"
      ]
     },
     "execution_count": 46,
     "metadata": {},
     "output_type": "execute_result"
    }
   ],
   "source": [
    "y_pred"
   ]
  },
  {
   "cell_type": "code",
   "execution_count": 14,
   "id": "49927fee",
   "metadata": {},
   "outputs": [
    {
     "data": {
      "text/plain": [
       "array([ 0.83928966, -2.92998585,  0.21354419])"
      ]
     },
     "execution_count": 14,
     "metadata": {},
     "output_type": "execute_result"
    }
   ],
   "source": [
    "model.coef_"
   ]
  }
 ],
 "metadata": {
  "kernelspec": {
   "display_name": "test_env",
   "language": "python",
   "name": "test_env"
  },
  "language_info": {
   "codemirror_mode": {
    "name": "ipython",
    "version": 3
   },
   "file_extension": ".py",
   "mimetype": "text/x-python",
   "name": "python",
   "nbconvert_exporter": "python",
   "pygments_lexer": "ipython3",
   "version": "3.9.7"
  }
 },
 "nbformat": 4,
 "nbformat_minor": 5
}
