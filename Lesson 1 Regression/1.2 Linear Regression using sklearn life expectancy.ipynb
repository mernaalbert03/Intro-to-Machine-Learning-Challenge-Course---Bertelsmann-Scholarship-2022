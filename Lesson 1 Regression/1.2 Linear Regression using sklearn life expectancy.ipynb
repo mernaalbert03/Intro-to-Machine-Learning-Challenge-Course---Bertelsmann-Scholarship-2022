{
 "cells": [
  {
   "cell_type": "markdown",
   "id": "daf2ce70",
   "metadata": {},
   "source": [
    "#  Linear Regression using sklearn life expectancy"
   ]
  },
  {
   "cell_type": "markdown",
   "id": "851bd749",
   "metadata": {},
   "source": [
    "## 1. Import the libraries "
   ]
  },
  {
   "cell_type": "code",
   "execution_count": 1,
   "id": "3f2ea5e3",
   "metadata": {},
   "outputs": [],
   "source": [
    "import pandas as pd \n",
    "import numpy as np \n",
    "import matplotlib.pyplot as plt \n",
    "from sklearn.linear_model import LinearRegression\n",
    "from sklearn.metrics import mean_squared_error, mean_absolute_error"
   ]
  },
  {
   "cell_type": "markdown",
   "id": "d40d3650",
   "metadata": {},
   "source": [
    "## 2. Prepare the data "
   ]
  },
  {
   "cell_type": "code",
   "execution_count": 17,
   "id": "2a61ab56",
   "metadata": {},
   "outputs": [],
   "source": [
    "df=pd.read_csv(\"bmi_and_life_expectancy.csv\")"
   ]
  },
  {
   "cell_type": "code",
   "execution_count": 7,
   "id": "7a1d4f60",
   "metadata": {},
   "outputs": [
    {
     "data": {
      "text/html": [
       "<div>\n",
       "<style scoped>\n",
       "    .dataframe tbody tr th:only-of-type {\n",
       "        vertical-align: middle;\n",
       "    }\n",
       "\n",
       "    .dataframe tbody tr th {\n",
       "        vertical-align: top;\n",
       "    }\n",
       "\n",
       "    .dataframe thead th {\n",
       "        text-align: right;\n",
       "    }\n",
       "</style>\n",
       "<table border=\"1\" class=\"dataframe\">\n",
       "  <thead>\n",
       "    <tr style=\"text-align: right;\">\n",
       "      <th></th>\n",
       "      <th>Country</th>\n",
       "      <th>Life expectancy</th>\n",
       "      <th>BMI</th>\n",
       "    </tr>\n",
       "  </thead>\n",
       "  <tbody>\n",
       "    <tr>\n",
       "      <th>0</th>\n",
       "      <td>Afghanistan</td>\n",
       "      <td>52.8</td>\n",
       "      <td>20.62058</td>\n",
       "    </tr>\n",
       "    <tr>\n",
       "      <th>1</th>\n",
       "      <td>Albania</td>\n",
       "      <td>76.8</td>\n",
       "      <td>26.44657</td>\n",
       "    </tr>\n",
       "    <tr>\n",
       "      <th>2</th>\n",
       "      <td>Algeria</td>\n",
       "      <td>75.5</td>\n",
       "      <td>24.59620</td>\n",
       "    </tr>\n",
       "    <tr>\n",
       "      <th>3</th>\n",
       "      <td>Andorra</td>\n",
       "      <td>84.6</td>\n",
       "      <td>27.63048</td>\n",
       "    </tr>\n",
       "    <tr>\n",
       "      <th>4</th>\n",
       "      <td>Angola</td>\n",
       "      <td>56.7</td>\n",
       "      <td>22.25083</td>\n",
       "    </tr>\n",
       "  </tbody>\n",
       "</table>\n",
       "</div>"
      ],
      "text/plain": [
       "       Country  Life expectancy       BMI\n",
       "0  Afghanistan             52.8  20.62058\n",
       "1      Albania             76.8  26.44657\n",
       "2      Algeria             75.5  24.59620\n",
       "3      Andorra             84.6  27.63048\n",
       "4       Angola             56.7  22.25083"
      ]
     },
     "execution_count": 7,
     "metadata": {},
     "output_type": "execute_result"
    }
   ],
   "source": [
    "df.head()"
   ]
  },
  {
   "cell_type": "code",
   "execution_count": 13,
   "id": "b9721e74",
   "metadata": {},
   "outputs": [],
   "source": [
    "X=df[\"BMI\"].values.reshape(-1,1)\n",
    "y=df[\"Life expectancy\"].values.reshape(-1,1)"
   ]
  },
  {
   "cell_type": "markdown",
   "id": "48a2f78d",
   "metadata": {},
   "source": [
    "## 4.Visualize"
   ]
  },
  {
   "cell_type": "code",
   "execution_count": 14,
   "id": "81c50b27",
   "metadata": {},
   "outputs": [
    {
     "data": {
      "text/plain": [
       "Text(0, 0.5, 'Life Expectincy')"
      ]
     },
     "execution_count": 14,
     "metadata": {},
     "output_type": "execute_result"
    },
    {
     "data": {
      "image/png": "[encoded data removed]",
      "text/plain": [
       "<Figure size 432x288 with 1 Axes>"
      ]
     },
     "metadata": {
      "needs_background": "light"
     },
     "output_type": "display_data"
    }
   ],
   "source": [
    "plt.scatter(X,y)\n",
    "plt.xlabel(\"Body Mass Index (BMI)\")\n",
    "plt.ylabel(\"Life Expectincy\")"
   ]
  },
  {
   "cell_type": "markdown",
   "id": "61707a9e",
   "metadata": {},
   "source": [
    "## 3. Build the model "
   ]
  },
  {
   "cell_type": "code",
   "execution_count": 15,
   "id": "30892ce5",
   "metadata": {},
   "outputs": [
    {
     "data": {
      "text/plain": [
       "LinearRegression()"
      ]
     },
     "execution_count": 15,
     "metadata": {},
     "output_type": "execute_result"
    }
   ],
   "source": [
    "model=LinearRegression()\n",
    "model.fit(X,y)"
   ]
  },
  {
   "cell_type": "code",
   "execution_count": 20,
   "id": "0c32ec99",
   "metadata": {},
   "outputs": [
    {
     "data": {
      "text/plain": [
       "array([[2.51847959]])"
      ]
     },
     "execution_count": 20,
     "metadata": {},
     "output_type": "execute_result"
    }
   ],
   "source": [
    "model.coef_        "
   ]
  },
  {
   "cell_type": "markdown",
   "id": "3e291435",
   "metadata": {},
   "source": [
    "## 4. make a prediction "
   ]
  },
  {
   "cell_type": "code",
   "execution_count": 24,
   "id": "323da09d",
   "metadata": {},
   "outputs": [],
   "source": [
    "laos_life_exp = model.predict([[21.07931]])\n",
    "laos"
   ]
  },
  {
   "cell_type": "markdown",
   "id": "dcc29dc7",
   "metadata": {},
   "source": [
    "## 5.visualize the model "
   ]
  },
  {
   "cell_type": "code",
   "execution_count": 18,
   "id": "1d6df689",
   "metadata": {},
   "outputs": [
    {
     "data": {
      "text/plain": [
       "Text(0, 0.5, 'Life Expectincy')"
      ]
     },
     "execution_count": 18,
     "metadata": {},
     "output_type": "execute_result"
    },
    {
     "data": {
      "image/png": "[encoded data removed]",
      "text/plain": [
       "<Figure size 432x288 with 1 Axes>"
      ]
     },
     "metadata": {
      "needs_background": "light"
     },
     "output_type": "display_data"
    }
   ],
   "source": [
    "plt.plot(X,model.predict(X),color=\"red\")\n",
    "plt.scatter(X,y)\n",
    "plt.xlabel(\"Body Mass Index (BMI)\")\n",
    "plt.ylabel(\"Life Expectincy\")"
   ]
  }
 ],
 "metadata": {
  "kernelspec": {
   "display_name": "test_env",
   "language": "python",
   "name": "test_env"
  },
  "language_info": {
   "codemirror_mode": {
    "name": "ipython",
    "version": 3
   },
   "file_extension": ".py",
   "mimetype": "text/x-python",
   "name": "python",
   "nbconvert_exporter": "python",
   "pygments_lexer": "ipython3",
   "version": "3.9.7"
  }
 },
 "nbformat": 4,
 "nbformat_minor": 5
}
