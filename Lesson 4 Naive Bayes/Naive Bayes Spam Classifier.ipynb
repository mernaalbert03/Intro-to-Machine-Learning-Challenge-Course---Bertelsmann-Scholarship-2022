{
 "cells": [
  {
   "cell_type": "markdown",
   "id": "d5078139",
   "metadata": {},
   "source": [
    "# Naive bayes : Spam Classifier "
   ]
  },
  {
   "cell_type": "markdown",
   "id": "c904f912",
   "metadata": {},
   "source": [
    "We are going to use a dataset that was published on the UCI Machine Learning repository. You can view the __[abstract](https://archive.ics.uci.edu/ml/datasets/SMS+Spam+Collection)__ and the original __[compressed data file](https://archive.ics.uci.edu/ml/machine-learning-databases/00228/)__ on the UCI website"
   ]
  },
  {
   "cell_type": "markdown",
   "id": "91d1cbb6",
   "metadata": {},
   "source": [
    "## 1. Import the libraries "
   ]
  },
  {
   "cell_type": "code",
   "execution_count": 41,
   "id": "b033ff55",
   "metadata": {},
   "outputs": [],
   "source": [
    "import pandas as pd \n",
    "import pprint\n",
    "import string\n",
    "from sklearn.feature_extraction.text import CountVectorizer\n",
    "from sklearn.model_selection import train_test_split\n",
    "from sklearn.naive_bayes import MultinomialNB\n",
    "import matplotlib.pyplot as plt \n",
    "from sklearn.metrics import classification_report\n",
    "from collections import Counter\n"
   ]
  },
  {
   "cell_type": "markdown",
   "id": "2d46c003",
   "metadata": {},
   "source": [
    "## 2.Import our data "
   ]
  },
  {
   "cell_type": "code",
   "execution_count": 6,
   "id": "a2e8417d",
   "metadata": {},
   "outputs": [],
   "source": [
    "df=pd.read_csv(\"SMSSpamCollection\",delimiter=\"\\t\",header=None,names=[\"label\",\"sms_message\"])"
   ]
  },
  {
   "cell_type": "code",
   "execution_count": 7,
   "id": "18f910d3",
   "metadata": {},
   "outputs": [
    {
     "data": {
      "text/html": [
       "<div>\n",
       "<style scoped>\n",
       "    .dataframe tbody tr th:only-of-type {\n",
       "        vertical-align: middle;\n",
       "    }\n",
       "\n",
       "    .dataframe tbody tr th {\n",
       "        vertical-align: top;\n",
       "    }\n",
       "\n",
       "    .dataframe thead th {\n",
       "        text-align: right;\n",
       "    }\n",
       "</style>\n",
       "<table border=\"1\" class=\"dataframe\">\n",
       "  <thead>\n",
       "    <tr style=\"text-align: right;\">\n",
       "      <th></th>\n",
       "      <th>label</th>\n",
       "      <th>sms_message</th>\n",
       "    </tr>\n",
       "  </thead>\n",
       "  <tbody>\n",
       "    <tr>\n",
       "      <th>0</th>\n",
       "      <td>ham</td>\n",
       "      <td>Go until jurong point, crazy.. Available only ...</td>\n",
       "    </tr>\n",
       "    <tr>\n",
       "      <th>1</th>\n",
       "      <td>ham</td>\n",
       "      <td>Ok lar... Joking wif u oni...</td>\n",
       "    </tr>\n",
       "    <tr>\n",
       "      <th>2</th>\n",
       "      <td>spam</td>\n",
       "      <td>Free entry in 2 a wkly comp to win FA Cup fina...</td>\n",
       "    </tr>\n",
       "    <tr>\n",
       "      <th>3</th>\n",
       "      <td>ham</td>\n",
       "      <td>U dun say so early hor... U c already then say...</td>\n",
       "    </tr>\n",
       "    <tr>\n",
       "      <th>4</th>\n",
       "      <td>ham</td>\n",
       "      <td>Nah I don't think he goes to usf, he lives aro...</td>\n",
       "    </tr>\n",
       "  </tbody>\n",
       "</table>\n",
       "</div>"
      ],
      "text/plain": [
       "  label                                        sms_message\n",
       "0   ham  Go until jurong point, crazy.. Available only ...\n",
       "1   ham                      Ok lar... Joking wif u oni...\n",
       "2  spam  Free entry in 2 a wkly comp to win FA Cup fina...\n",
       "3   ham  U dun say so early hor... U c already then say...\n",
       "4   ham  Nah I don't think he goes to usf, he lives aro..."
      ]
     },
     "execution_count": 7,
     "metadata": {},
     "output_type": "execute_result"
    }
   ],
   "source": [
    "df.head()"
   ]
  },
  {
   "cell_type": "code",
   "execution_count": 8,
   "id": "082c0410",
   "metadata": {},
   "outputs": [],
   "source": [
    "X=df[\"sms_message\"]\n",
    "y=df[\"label\"]"
   ]
  },
  {
   "cell_type": "markdown",
   "id": "81678cb9",
   "metadata": {},
   "source": [
    "## 3. Explore"
   ]
  },
  {
   "cell_type": "markdown",
   "id": "a18ac43e",
   "metadata": {},
   "source": [
    "we want to decode the label column to be ham o 0 and spam "
   ]
  },
  {
   "cell_type": "code",
   "execution_count": 9,
   "id": "abc48f48",
   "metadata": {},
   "outputs": [],
   "source": [
    "df[\"label\"]=df.label.map({\"ham\":0,\"spam\":1})"
   ]
  },
  {
   "cell_type": "code",
   "execution_count": 10,
   "id": "b0469e7f",
   "metadata": {},
   "outputs": [
    {
     "data": {
      "text/html": [
       "<div>\n",
       "<style scoped>\n",
       "    .dataframe tbody tr th:only-of-type {\n",
       "        vertical-align: middle;\n",
       "    }\n",
       "\n",
       "    .dataframe tbody tr th {\n",
       "        vertical-align: top;\n",
       "    }\n",
       "\n",
       "    .dataframe thead th {\n",
       "        text-align: right;\n",
       "    }\n",
       "</style>\n",
       "<table border=\"1\" class=\"dataframe\">\n",
       "  <thead>\n",
       "    <tr style=\"text-align: right;\">\n",
       "      <th></th>\n",
       "      <th>label</th>\n",
       "      <th>sms_message</th>\n",
       "    </tr>\n",
       "  </thead>\n",
       "  <tbody>\n",
       "    <tr>\n",
       "      <th>0</th>\n",
       "      <td>0</td>\n",
       "      <td>Go until jurong point, crazy.. Available only ...</td>\n",
       "    </tr>\n",
       "    <tr>\n",
       "      <th>1</th>\n",
       "      <td>0</td>\n",
       "      <td>Ok lar... Joking wif u oni...</td>\n",
       "    </tr>\n",
       "    <tr>\n",
       "      <th>2</th>\n",
       "      <td>1</td>\n",
       "      <td>Free entry in 2 a wkly comp to win FA Cup fina...</td>\n",
       "    </tr>\n",
       "    <tr>\n",
       "      <th>3</th>\n",
       "      <td>0</td>\n",
       "      <td>U dun say so early hor... U c already then say...</td>\n",
       "    </tr>\n",
       "    <tr>\n",
       "      <th>4</th>\n",
       "      <td>0</td>\n",
       "      <td>Nah I don't think he goes to usf, he lives aro...</td>\n",
       "    </tr>\n",
       "  </tbody>\n",
       "</table>\n",
       "</div>"
      ],
      "text/plain": [
       "   label                                        sms_message\n",
       "0      0  Go until jurong point, crazy.. Available only ...\n",
       "1      0                      Ok lar... Joking wif u oni...\n",
       "2      1  Free entry in 2 a wkly comp to win FA Cup fina...\n",
       "3      0  U dun say so early hor... U c already then say...\n",
       "4      0  Nah I don't think he goes to usf, he lives aro..."
      ]
     },
     "execution_count": 10,
     "metadata": {},
     "output_type": "execute_result"
    }
   ],
   "source": [
    "df.head()"
   ]
  },
  {
   "cell_type": "code",
   "execution_count": 36,
   "id": "23906938",
   "metadata": {},
   "outputs": [
    {
     "data": {
      "text/plain": [
       "0    0.865937\n",
       "1    0.134063\n",
       "Name: label, dtype: float64"
      ]
     },
     "execution_count": 36,
     "metadata": {},
     "output_type": "execute_result"
    }
   ],
   "source": [
    "df[\"label\"].value_counts(normalize=True)"
   ]
  },
  {
   "cell_type": "code",
   "execution_count": 31,
   "id": "8c4f0cde",
   "metadata": {},
   "outputs": [
    {
     "data": {
      "image/png": "[encoded data removed]",
      "text/plain": [
       "<Figure size 432x288 with 1 Axes>"
      ]
     },
     "metadata": {
      "needs_background": "light"
     },
     "output_type": "display_data"
    }
   ],
   "source": [
    "df[\"label\"].value_counts(normalize=True).plot(kind=\"bar\",xlabel=\"Class\",ylabel=\"Freqiency\");"
   ]
  },
  {
   "cell_type": "markdown",
   "id": "e94bfbd1",
   "metadata": {},
   "source": [
    "## 4. split to training and test sets"
   ]
  },
  {
   "cell_type": "code",
   "execution_count": 13,
   "id": "f9cda1ae",
   "metadata": {},
   "outputs": [
    {
     "name": "stdout",
     "output_type": "stream",
     "text": [
      "(4457,)\n",
      "(4457,)\n",
      "(1115,)\n",
      "(1115,)\n"
     ]
    }
   ],
   "source": [
    "X_train,X_test,y_train,y_test=train_test_split(X,y,test_size=0.2,random_state=42)\n",
    "print(X_train.shape)\n",
    "print(y_train.shape)\n",
    "print(X_test.shape)\n",
    "print(y_test.shape)                                                                    "
   ]
  },
  {
   "cell_type": "markdown",
   "id": "f2bfc80d",
   "metadata": {},
   "source": [
    "## 5. Bag of words "
   ]
  },
  {
   "cell_type": "markdown",
   "id": "d8439569",
   "metadata": {},
   "source": [
    "We need to take every message, split it into words, and count how many they appear. We will use the count vectorizer method from the scikit learn library. There are some parameters for the count vectorizer we need to look at:  \n",
    "- lowercase default True: To convert all letters to lowercase. Any words written in upper case or lower case will be the same (For example 'She' will be treated similarly to 'she')\n",
    "- token_pattern: This parameter is responsible for ignoring punctuation\n",
    "- stop_words default None: To ignore the commonly used words like an, a, and,....etc depending on the language of text you have. In our case, It will be 'English'\n",
    "\n",
    "\n",
    "For more information about count vectorizer, you can check this __[link](https://scikit-learn.org/stable/modules/generated/sklearn.feature_extraction.text.CountVectorizer.html)__"
   ]
  },
  {
   "cell_type": "markdown",
   "id": "f2ffcf74",
   "metadata": {},
   "source": [
    "First, we will try to write bag of words from scratch on a simple example, then, we will use the Count Vectorizer method from scikit learn library."
   ]
  },
  {
   "cell_type": "code",
   "execution_count": 46,
   "id": "ad00b58f",
   "metadata": {},
   "outputs": [
    {
     "data": {
      "text/html": [
       "<div>\n",
       "<style scoped>\n",
       "    .dataframe tbody tr th:only-of-type {\n",
       "        vertical-align: middle;\n",
       "    }\n",
       "\n",
       "    .dataframe tbody tr th {\n",
       "        vertical-align: top;\n",
       "    }\n",
       "\n",
       "    .dataframe thead th {\n",
       "        text-align: right;\n",
       "    }\n",
       "</style>\n",
       "<table border=\"1\" class=\"dataframe\">\n",
       "  <thead>\n",
       "    <tr style=\"text-align: right;\">\n",
       "      <th></th>\n",
       "      <th>are</th>\n",
       "      <th>call</th>\n",
       "      <th>from</th>\n",
       "      <th>hello</th>\n",
       "      <th>home</th>\n",
       "      <th>how</th>\n",
       "      <th>me</th>\n",
       "      <th>money</th>\n",
       "      <th>now</th>\n",
       "      <th>tomorrow</th>\n",
       "      <th>win</th>\n",
       "      <th>you</th>\n",
       "    </tr>\n",
       "  </thead>\n",
       "  <tbody>\n",
       "    <tr>\n",
       "      <th>0</th>\n",
       "      <td>1</td>\n",
       "      <td>0</td>\n",
       "      <td>0</td>\n",
       "      <td>1</td>\n",
       "      <td>0</td>\n",
       "      <td>1</td>\n",
       "      <td>0</td>\n",
       "      <td>0</td>\n",
       "      <td>0</td>\n",
       "      <td>0</td>\n",
       "      <td>0</td>\n",
       "      <td>1</td>\n",
       "    </tr>\n",
       "    <tr>\n",
       "      <th>1</th>\n",
       "      <td>0</td>\n",
       "      <td>0</td>\n",
       "      <td>1</td>\n",
       "      <td>0</td>\n",
       "      <td>1</td>\n",
       "      <td>0</td>\n",
       "      <td>0</td>\n",
       "      <td>1</td>\n",
       "      <td>0</td>\n",
       "      <td>0</td>\n",
       "      <td>2</td>\n",
       "      <td>0</td>\n",
       "    </tr>\n",
       "    <tr>\n",
       "      <th>2</th>\n",
       "      <td>0</td>\n",
       "      <td>1</td>\n",
       "      <td>0</td>\n",
       "      <td>0</td>\n",
       "      <td>0</td>\n",
       "      <td>0</td>\n",
       "      <td>1</td>\n",
       "      <td>0</td>\n",
       "      <td>1</td>\n",
       "      <td>0</td>\n",
       "      <td>0</td>\n",
       "      <td>0</td>\n",
       "    </tr>\n",
       "    <tr>\n",
       "      <th>3</th>\n",
       "      <td>0</td>\n",
       "      <td>1</td>\n",
       "      <td>0</td>\n",
       "      <td>2</td>\n",
       "      <td>0</td>\n",
       "      <td>0</td>\n",
       "      <td>0</td>\n",
       "      <td>0</td>\n",
       "      <td>0</td>\n",
       "      <td>1</td>\n",
       "      <td>0</td>\n",
       "      <td>1</td>\n",
       "    </tr>\n",
       "  </tbody>\n",
       "</table>\n",
       "</div>"
      ],
      "text/plain": [
       "   are  call  from  hello  home  how  me  money  now  tomorrow  win  you\n",
       "0    1     0     0      1     0    1   0      0    0         0    0    1\n",
       "1    0     0     1      0     1    0   0      1    0         0    2    0\n",
       "2    0     1     0      0     0    0   1      0    1         0    0    0\n",
       "3    0     1     0      2     0    0   0      0    0         1    0    1"
      ]
     },
     "execution_count": 46,
     "metadata": {},
     "output_type": "execute_result"
    }
   ],
   "source": [
    "documents = ['Hello, how are you!','Win money, win from home.','Call me now.','Hello, Call hello you tomorrow?']\n",
    "\n",
    "#convert the text into lowercase\n",
    "lower_case_documents = [] \n",
    "for i in documents:\n",
    "    lower=i.lower()\n",
    "    lower_case_documents.append(lower)\n",
    "    \n",
    "#remove punctuations    \n",
    "sans_punctuation_documents = []\n",
    "for i in lower_case_documents:\n",
    "    sans=i.translate(str.maketrans('', '', string.punctuation))\n",
    "    sans_punctuation_documents.append(sans)\n",
    "    \n",
    "#split text into separate words     \n",
    "preprocessed_documents = []\n",
    "for i in sans_punctuation_documents:\n",
    "    preprocessed=i.split()\n",
    "    preprocessed_documents.append(preprocessed)\n",
    "    \n",
    "#count the frequency of each word\n",
    "frequency_list = []\n",
    "for i in preprocessed_documents:\n",
    "    counter=Counter(i)\n",
    "    frequency_list.append(counter)\n",
    "    \n",
    "    \n",
    "#using scikit learn library to get the frequency of each word\n",
    "#Note: Count Vectorizer is automatically convert the text into lowercase\n",
    "#We will not set stop words paramter becaus our data set is small \n",
    "\n",
    "count_vector = CountVectorizer()\n",
    "doc_array=count_vector.fit_transform(documents).toarray()\n",
    "frequency_matrix = pd.DataFrame(doc_array,columns = count_vector.get_feature_names())\n",
    "frequency_matrix"
   ]
  },
  {
   "cell_type": "code",
   "execution_count": 14,
   "id": "dbbf4c57",
   "metadata": {
    "scrolled": true
   },
   "outputs": [
    {
     "data": {
      "text/plain": [
       "1978    Reply to win £100 weekly! Where will the 2006 ...\n",
       "3989    Hello. Sort of out in town already. That . So ...\n",
       "3935     How come guoyang go n tell her? Then u told her?\n",
       "4078    Hey sathya till now we dint meet not even a si...\n",
       "4086    Orange brings you ringtones from all time Char...\n",
       "Name: sms_message, dtype: object"
      ]
     },
     "execution_count": 14,
     "metadata": {},
     "output_type": "execute_result"
    }
   ],
   "source": [
    "X_train.head()"
   ]
  },
  {
   "cell_type": "markdown",
   "id": "1301bde0",
   "metadata": {},
   "source": [
    "We apply Count Vectorizer on our dataset"
   ]
  },
  {
   "cell_type": "code",
   "execution_count": 24,
   "id": "e147588a",
   "metadata": {},
   "outputs": [],
   "source": [
    "count_vector = CountVectorizer()\n",
    "training_data=count_vector.fit_transform(X_train)\n",
    "testing_data=count_vector.transform(X_test)"
   ]
  },
  {
   "cell_type": "markdown",
   "id": "91f0ce01",
   "metadata": {},
   "source": [
    "## 6. Build the Model "
   ]
  },
  {
   "cell_type": "code",
   "execution_count": 25,
   "id": "dddb98c1",
   "metadata": {},
   "outputs": [
    {
     "data": {
      "text/plain": [
       "MultinomialNB()"
      ]
     },
     "execution_count": 25,
     "metadata": {},
     "output_type": "execute_result"
    }
   ],
   "source": [
    "naive_bayes=MultinomialNB()\n",
    "naive_bayes.fit(training_data,y_train)"
   ]
  },
  {
   "cell_type": "markdown",
   "id": "0066d180",
   "metadata": {},
   "source": [
    "## 7. Predict"
   ]
  },
  {
   "cell_type": "code",
   "execution_count": 35,
   "id": "c3ab7136",
   "metadata": {},
   "outputs": [
    {
     "data": {
      "text/plain": [
       "ham     0.874439\n",
       "spam    0.125561\n",
       "dtype: float64"
      ]
     },
     "execution_count": 35,
     "metadata": {},
     "output_type": "execute_result"
    }
   ],
   "source": [
    "predictions=naive_bayes.predict(testing_data)\n",
    "pd.Series(predictions).value_counts(normalize=True)"
   ]
  },
  {
   "cell_type": "code",
   "execution_count": 30,
   "id": "766010ec",
   "metadata": {},
   "outputs": [
    {
     "data": {
      "image/png": "[encoded data removed]",
      "text/plain": [
       "<Figure size 432x288 with 1 Axes>"
      ]
     },
     "metadata": {
      "needs_background": "light"
     },
     "output_type": "display_data"
    }
   ],
   "source": [
    "pd.Series(predictions).value_counts(normalize=True).plot(kind=\"bar\",xlabel=\"Class\",ylabel=\"Freqiency\");"
   ]
  },
  {
   "cell_type": "markdown",
   "id": "980a5b9f",
   "metadata": {},
   "source": [
    "## 8.Evaluation"
   ]
  },
  {
   "cell_type": "code",
   "execution_count": 87,
   "id": "0d541e5e",
   "metadata": {},
   "outputs": [
    {
     "name": "stdout",
     "output_type": "stream",
     "text": [
      "              precision    recall  f1-score   support\n",
      "\n",
      "           0       0.99      1.00      1.00       966\n",
      "           1       1.00      0.94      0.97       149\n",
      "\n",
      "    accuracy                           0.99      1115\n",
      "   macro avg       1.00      0.97      0.98      1115\n",
      "weighted avg       0.99      0.99      0.99      1115\n",
      "\n"
     ]
    }
   ],
   "source": [
    "print (classification_report(y_test, predictions))"
   ]
  }
 ],
 "metadata": {
  "kernelspec": {
   "display_name": "test_env",
   "language": "python",
   "name": "test_env"
  },
  "language_info": {
   "codemirror_mode": {
    "name": "ipython",
    "version": 3
   },
   "file_extension": ".py",
   "mimetype": "text/x-python",
   "name": "python",
   "nbconvert_exporter": "python",
   "pygments_lexer": "ipython3",
   "version": "3.9.7"
  }
 },
 "nbformat": 4,
 "nbformat_minor": 5
}
